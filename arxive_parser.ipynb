{
  "nbformat": 4,
  "nbformat_minor": 0,
  "metadata": {
    "colab": {
      "provenance": [],
      "toc_visible": true
    },
    "kernelspec": {
      "name": "python3",
      "display_name": "Python 3"
    },
    "language_info": {
      "name": "python"
    }
  },
  "cells": [
    {
      "cell_type": "code",
      "execution_count": 23,
      "metadata": {
        "colab": {
          "base_uri": "https://localhost:8080/"
        },
        "id": "Qi6vfvBD6RRC",
        "outputId": "49195af9-2ecb-441d-8d4f-a31f5c19171f"
      },
      "outputs": [
        {
          "output_type": "stream",
          "name": "stdout",
          "text": [
            "Looking in indexes: https://pypi.org/simple, https://us-python.pkg.dev/colab-wheels/public/simple/\n",
            "Requirement already satisfied: arxiv in /usr/local/lib/python3.9/dist-packages (1.4.4)\n",
            "Requirement already satisfied: feedparser in /usr/local/lib/python3.9/dist-packages (from arxiv) (6.0.10)\n",
            "Requirement already satisfied: sgmllib3k in /usr/local/lib/python3.9/dist-packages (from feedparser->arxiv) (1.0.0)\n",
            "Looking in indexes: https://pypi.org/simple, https://us-python.pkg.dev/colab-wheels/public/simple/\n",
            "Requirement already satisfied: aspose-words in /usr/local/lib/python3.9/dist-packages (23.3.0)\n"
          ]
        }
      ],
      "source": [
        "!pip install arxiv\n",
        "!pip install aspose-words"
      ]
    },
    {
      "cell_type": "code",
      "source": [
        "import arxiv\n",
        "import aspose.words as aw\n",
        "\n",
        "search = arxiv.Search(\n",
        "  query = \"ChatGPT\",\n",
        "  max_results = 1,\n",
        "  sort_by = arxiv.SortCriterion.SubmittedDate\n",
        ")\n",
        "\n",
        "for result in search.results():\n",
        "  result.download_pdf(filename=f\"{result.title}.pdf\")\n",
        "  pdf = aw.Document(f\"{result.title}.pdf\")\n",
        "  pdf.save(f\"{result.title}.txt\")"
      ],
      "metadata": {
        "id": "VtAK8TuE6a86"
      },
      "execution_count": 25,
      "outputs": []
    },
    {
      "cell_type": "code",
      "source": [],
      "metadata": {
        "id": "9W2NDiE2EDPw"
      },
      "execution_count": null,
      "outputs": []
    }
  ]
}